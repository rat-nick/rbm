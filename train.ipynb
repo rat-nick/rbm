{
 "cells": [
  {
   "cell_type": "markdown",
   "metadata": {},
   "source": [
    "Only run if in Colab!"
   ]
  },
  {
   "cell_type": "code",
   "execution_count": null,
   "metadata": {},
   "outputs": [],
   "source": [
    "!git clone https://github.com/ratinac-nikola/rbm.git\n",
    "%cd rbm\n",
    "%pip install -r requirements.txt"
   ]
  },
  {
   "cell_type": "code",
   "execution_count": null,
   "metadata": {},
   "outputs": [],
   "source": [
    "%pwd"
   ]
  },
  {
   "cell_type": "markdown",
   "metadata": {},
   "source": [
    "### Initialization"
   ]
  },
  {
   "cell_type": "code",
   "execution_count": null,
   "metadata": {},
   "outputs": [],
   "source": [
    "from sklearn.model_selection import train_test_split\n",
    "import torch\n",
    "import config\n",
    "\n",
    "if torch.cuda.is_available():\n",
    "    print(\"Using GPU\")\n",
    "    device = torch.device('cuda')\n",
    "else:\n",
    "    print(\"Using CPU\")\n",
    "    device = \"cpu\""
   ]
  },
  {
   "cell_type": "code",
   "execution_count": null,
   "metadata": {},
   "outputs": [],
   "source": [
    "from dataset import Dataset\n",
    "dataset = Dataset(device=device)\n",
    "tensorData = dataset.getDatasetAsTensor()\n",
    "trainset, testset = train_test_split(tensorData, train_size=0.8)\n",
    "trainset.shape, testset.shape"
   ]
  },
  {
   "cell_type": "code",
   "execution_count": null,
   "metadata": {},
   "outputs": [],
   "source": [
    "from rbm import RBM\n",
    "rbm = RBM(tensorData.shape[1], n_hidden=10, device=device)"
   ]
  },
  {
   "cell_type": "code",
   "execution_count": null,
   "metadata": {},
   "outputs": [],
   "source": [
    "from utils import *\n",
    "for epoch in range(1, config.epochs + 1):\n",
    "\n",
    "    for vin in trainset:\n",
    "\n",
    "        v0 = vin\n",
    "        vk = vin\n",
    "\n",
    "        for k in range(10):\n",
    "            _, hk = rbm.sample_h(vk)  # forward pass\n",
    "            _, vk = rbm.sample_v(hk)  # backward pass\n",
    "            vk[v0.sum(dim=1) == 0] = v0[v0.sum(dim=1) == 0]\n",
    "\n",
    "        rbm.train(v0, vk)\n",
    "\n",
    "    print(f\"Epoch {epoch} done.\", end=\" \")\n",
    "    rmse = 0\n",
    "    for vin in testset:\n",
    "        rec = rbm.reconstruct(vin)\n",
    "        # print(reconstruction_rmse(vin, rec))\n",
    "        rmse += reconstruction_rmse(vin, rec)\n",
    "    print(\"RMSE:\",rmse / len(testset))"
   ]
  }
 ],
 "metadata": {
  "interpreter": {
   "hash": "31ef4494518237c4d127691515565a6a726fc1a4eafd76e4f455b7163c77bc81"
  },
  "kernelspec": {
   "display_name": "Python 3.8.10 ('env': venv)",
   "language": "python",
   "name": "python3"
  },
  "language_info": {
   "codemirror_mode": {
    "name": "ipython",
    "version": 3
   },
   "file_extension": ".py",
   "mimetype": "text/x-python",
   "name": "python",
   "nbconvert_exporter": "python",
   "pygments_lexer": "ipython3",
   "version": "3.8.10"
  },
  "orig_nbformat": 4
 },
 "nbformat": 4,
 "nbformat_minor": 2
}
