{
 "cells": [
  {
   "cell_type": "markdown",
   "metadata": {},
   "source": [
    "Only run if in Colab!"
   ]
  },
  {
   "cell_type": "code",
   "execution_count": null,
   "metadata": {},
   "outputs": [],
   "source": [
    "!git clone https://github.com/ratinac-nikola/rbm.git\n",
    "%cd rbm\n",
    "%pip install -r requirements.txt"
   ]
  },
  {
   "cell_type": "code",
   "execution_count": null,
   "metadata": {},
   "outputs": [],
   "source": [
    "%pwd"
   ]
  },
  {
   "cell_type": "markdown",
   "metadata": {},
   "source": [
    "### Initialization"
   ]
  },
  {
   "cell_type": "code",
   "execution_count": 1,
   "metadata": {},
   "outputs": [
    {
     "name": "stdout",
     "output_type": "stream",
     "text": [
      "Using CPU\n"
     ]
    }
   ],
   "source": [
    "from sklearn.model_selection import train_test_split\n",
    "import torch\n",
    "import config\n",
    "\n",
    "if torch.cuda.is_available():\n",
    "    print(\"Using GPU\")\n",
    "    device = torch.device('cuda')\n",
    "else:\n",
    "    print(\"Using CPU\")\n",
    "    device = \"cpu\""
   ]
  },
  {
   "cell_type": "code",
   "execution_count": 2,
   "metadata": {},
   "outputs": [
    {
     "data": {
      "text/plain": [
       "(torch.Size([754, 1682, 5]), torch.Size([189, 1682, 5]))"
      ]
     },
     "execution_count": 2,
     "metadata": {},
     "output_type": "execute_result"
    }
   ],
   "source": [
    "from dataset import Dataset\n",
    "dataset = Dataset(device=device)\n",
    "tensorData = dataset.getDatasetAsTensor()\n",
    "trainset, testset = train_test_split(tensorData, train_size=0.8)\n",
    "trainset.shape, testset.shape"
   ]
  },
  {
   "cell_type": "code",
   "execution_count": 3,
   "metadata": {},
   "outputs": [],
   "source": [
    "from rbm import RBM\n",
    "rbm = RBM(tensorData.shape[1], n_hidden=10, device=device)"
   ]
  },
  {
   "cell_type": "code",
   "execution_count": 12,
   "metadata": {},
   "outputs": [],
   "source": [
    "def strip(v):\n",
    "    return v[v.sum(dim=1) > 0]\n",
    "\n",
    "def RMSE(v0, vk):\n",
    "    return torch.sqrt(mse(v0,vk)**2).item()"
   ]
  },
  {
   "cell_type": "code",
   "execution_count": 13,
   "metadata": {},
   "outputs": [
    {
     "name": "stdout",
     "output_type": "stream",
     "text": [
      "3.2893042444552063\n"
     ]
    },
    {
     "ename": "KeyboardInterrupt",
     "evalue": "",
     "output_type": "error",
     "traceback": [
      "\u001b[0;31m---------------------------------------------------------------------------\u001b[0m",
      "\u001b[0;31mKeyboardInterrupt\u001b[0m                         Traceback (most recent call last)",
      "\u001b[1;32m/home/nikola/projects/master-rad/rbm/train.ipynb Cell 9'\u001b[0m in \u001b[0;36m<cell line: 13>\u001b[0;34m()\u001b[0m\n\u001b[1;32m     <a href='vscode-notebook-cell:/home/nikola/projects/master-rad/rbm/train.ipynb#ch0000007?line=22'>23</a>\u001b[0m     vk \u001b[39m=\u001b[39m rbm\u001b[39m.\u001b[39mreconstruct(vk)\n\u001b[1;32m     <a href='vscode-notebook-cell:/home/nikola/projects/master-rad/rbm/train.ipynb#ch0000007?line=24'>25</a>\u001b[0m     vk[v0\u001b[39m.\u001b[39msum(dim\u001b[39m=\u001b[39m\u001b[39m1\u001b[39m) \u001b[39m==\u001b[39m \u001b[39m0\u001b[39m] \u001b[39m=\u001b[39m v0[v0\u001b[39m.\u001b[39msum(dim\u001b[39m=\u001b[39m\u001b[39m1\u001b[39m) \u001b[39m==\u001b[39m \u001b[39m0\u001b[39m]\n\u001b[0;32m---> <a href='vscode-notebook-cell:/home/nikola/projects/master-rad/rbm/train.ipynb#ch0000007?line=26'>27</a>\u001b[0m rbm\u001b[39m.\u001b[39;49mtrain(v0, vk)\n\u001b[1;32m     <a href='vscode-notebook-cell:/home/nikola/projects/master-rad/rbm/train.ipynb#ch0000007?line=28'>29</a>\u001b[0m vv \u001b[39m=\u001b[39m rbm\u001b[39m.\u001b[39mreconstruct(v0)\n\u001b[1;32m     <a href='vscode-notebook-cell:/home/nikola/projects/master-rad/rbm/train.ipynb#ch0000007?line=29'>30</a>\u001b[0m vv[v0\u001b[39m.\u001b[39msum(dim\u001b[39m=\u001b[39m\u001b[39m1\u001b[39m) \u001b[39m==\u001b[39m \u001b[39m0\u001b[39m] \u001b[39m=\u001b[39m v0[v0\u001b[39m.\u001b[39msum(dim\u001b[39m=\u001b[39m\u001b[39m1\u001b[39m) \u001b[39m==\u001b[39m \u001b[39m0\u001b[39m]\n",
      "File \u001b[0;32m~/projects/master-rad/rbm/rbm.py:62\u001b[0m, in \u001b[0;36mRBM.train\u001b[0;34m(self, goodSample, badSample)\u001b[0m\n\u001b[1;32m     <a href='file:///home/nikola/projects/master-rad/rbm/rbm.py?line=55'>56</a>\u001b[0m \u001b[39mdef\u001b[39;00m \u001b[39mtrain\u001b[39m(\u001b[39mself\u001b[39m, goodSample: torch\u001b[39m.\u001b[39mTensor, badSample: torch\u001b[39m.\u001b[39mTensor) \u001b[39m-\u001b[39m\u001b[39m>\u001b[39m \u001b[39mNone\u001b[39;00m:\n\u001b[1;32m     <a href='file:///home/nikola/projects/master-rad/rbm/rbm.py?line=56'>57</a>\u001b[0m     \u001b[39m\"\"\"\u001b[39;00m\n\u001b[1;32m     <a href='file:///home/nikola/projects/master-rad/rbm/rbm.py?line=57'>58</a>\u001b[0m \u001b[39m    Perform contrastive divergence algorithm to optimize the weights that minimize the energy\u001b[39;00m\n\u001b[1;32m     <a href='file:///home/nikola/projects/master-rad/rbm/rbm.py?line=58'>59</a>\u001b[0m \u001b[39m    This maximizes the log-likelihood of the model\u001b[39;00m\n\u001b[1;32m     <a href='file:///home/nikola/projects/master-rad/rbm/rbm.py?line=59'>60</a>\u001b[0m \u001b[39m    \"\"\"\u001b[39;00m\n\u001b[0;32m---> <a href='file:///home/nikola/projects/master-rad/rbm/rbm.py?line=61'>62</a>\u001b[0m     good_h \u001b[39m=\u001b[39m \u001b[39mself\u001b[39;49m\u001b[39m.\u001b[39;49msample_h(goodSample)[\u001b[39m1\u001b[39m]\n\u001b[1;32m     <a href='file:///home/nikola/projects/master-rad/rbm/rbm.py?line=62'>63</a>\u001b[0m     bad_h \u001b[39m=\u001b[39m \u001b[39mself\u001b[39m\u001b[39m.\u001b[39msample_h(badSample)[\u001b[39m1\u001b[39m]\n\u001b[1;32m     <a href='file:///home/nikola/projects/master-rad/rbm/rbm.py?line=64'>65</a>\u001b[0m     \u001b[39m# caluclate the deltas\u001b[39;00m\n",
      "File \u001b[0;32m~/projects/master-rad/rbm/rbm.py:34\u001b[0m, in \u001b[0;36mRBM.sample_h\u001b[0;34m(self, v)\u001b[0m\n\u001b[1;32m     <a href='file:///home/nikola/projects/master-rad/rbm/rbm.py?line=27'>28</a>\u001b[0m \u001b[39mdef\u001b[39;00m \u001b[39msample_h\u001b[39m(\u001b[39mself\u001b[39m, v: torch\u001b[39m.\u001b[39mTensor) \u001b[39m-\u001b[39m\u001b[39m>\u001b[39m torch\u001b[39m.\u001b[39mTensor:\n\u001b[1;32m     <a href='file:///home/nikola/projects/master-rad/rbm/rbm.py?line=28'>29</a>\u001b[0m     \u001b[39m\"\"\"\u001b[39;00m\n\u001b[1;32m     <a href='file:///home/nikola/projects/master-rad/rbm/rbm.py?line=29'>30</a>\u001b[0m \u001b[39m    Sample hidden units given that v is the visible layer\u001b[39;00m\n\u001b[1;32m     <a href='file:///home/nikola/projects/master-rad/rbm/rbm.py?line=30'>31</a>\u001b[0m \u001b[39m    :param v: visible layer\u001b[39;00m\n\u001b[1;32m     <a href='file:///home/nikola/projects/master-rad/rbm/rbm.py?line=31'>32</a>\u001b[0m \u001b[39m    \"\"\"\u001b[39;00m\n\u001b[0;32m---> <a href='file:///home/nikola/projects/master-rad/rbm/rbm.py?line=33'>34</a>\u001b[0m     a \u001b[39m=\u001b[39m torch\u001b[39m.\u001b[39;49msum(torch\u001b[39m.\u001b[39;49mmatmul(\u001b[39mself\u001b[39;49m\u001b[39m.\u001b[39;49mw, v\u001b[39m.\u001b[39;49mt()), dim\u001b[39m=\u001b[39;49m[\u001b[39m1\u001b[39;49m, \u001b[39m2\u001b[39;49m])\n\u001b[1;32m     <a href='file:///home/nikola/projects/master-rad/rbm/rbm.py?line=35'>36</a>\u001b[0m     activation \u001b[39m=\u001b[39m \u001b[39mself\u001b[39m\u001b[39m.\u001b[39mh_bias \u001b[39m+\u001b[39m a\n\u001b[1;32m     <a href='file:///home/nikola/projects/master-rad/rbm/rbm.py?line=37'>38</a>\u001b[0m     p_h_given_v \u001b[39m=\u001b[39m torch\u001b[39m.\u001b[39msigmoid(activation)\n",
      "\u001b[0;31mKeyboardInterrupt\u001b[0m: "
     ]
    }
   ],
   "source": [
    "mse = torch.nn.MSELoss()\n",
    "recon_err = []\n",
    "for case in testset:\n",
    "        rec = rbm.reconstruct(case)\n",
    "        rec[case.sum(dim=1) == 0] = case[case.sum(dim=1) == 0]\n",
    "        rec = strip(rec)\n",
    "        case = strip(case)\n",
    "        case = torch.argmax(case, dim=1).float()\n",
    "        rec = torch.argmax(rec, dim=1).float()\n",
    "        \n",
    "        recon_err += [RMSE(case, rec)]\n",
    "print(sum(recon_err)/len(recon_err))\n",
    "for epoch in range(1, config.epochs + 1):\n",
    "    i = 1\n",
    "    recon_err = []\n",
    "    c = 1\n",
    "    for case in trainset:\n",
    "        \n",
    "        v0 = case\n",
    "        vk = case\n",
    "        c += 1\n",
    "        for k in range(2):\n",
    "            vk = rbm.reconstruct(vk)\n",
    "\n",
    "            vk[v0.sum(dim=1) == 0] = v0[v0.sum(dim=1) == 0]\n",
    "        \n",
    "        rbm.train(v0, vk)\n",
    "        \n",
    "        vv = rbm.reconstruct(v0)\n",
    "        vv[v0.sum(dim=1) == 0] = v0[v0.sum(dim=1) == 0]\n",
    "        vv = strip(vv)\n",
    "        v0 = strip(v0)\n",
    "        v0 = torch.argmax(v0, dim=1).float()\n",
    "        vv = torch.argmax(vv, dim=1).float()\n",
    "        \n",
    "        recon_err += [RMSE(v0, vv)]\n",
    "        \n",
    "    print(f\"Epoch {epoch} done. Mean reconstruction RMSE: {sum(recon_err)/len(recon_err)}\")\n",
    "    \n",
    "    recon_err = []\n",
    "    for case in testset:\n",
    "        rec = rbm.reconstruct(case)\n",
    "        rec[case.sum(dim=1) == 0] = case[case.sum(dim=1) == 0]\n",
    "        rec = strip()\n",
    "        case = strip()\n",
    "        case = torch.argmax(case, dim=1).float()\n",
    "        rec = torch.argmax(rec, dim=1).float()\n",
    "        \n",
    "        recon_err += [RMSE(v0, vv)]\n",
    "    \n",
    "    print(f\"Testset reconstruction: {sum(recon_err)/len(recon_err)}\")\n",
    "        \n",
    "        \n",
    "    \n"
   ]
  }
 ],
 "metadata": {
  "interpreter": {
   "hash": "31ef4494518237c4d127691515565a6a726fc1a4eafd76e4f455b7163c77bc81"
  },
  "kernelspec": {
   "display_name": "Python 3.8.10 ('env': venv)",
   "language": "python",
   "name": "python3"
  },
  "language_info": {
   "codemirror_mode": {
    "name": "ipython",
    "version": 3
   },
   "file_extension": ".py",
   "mimetype": "text/x-python",
   "name": "python",
   "nbconvert_exporter": "python",
   "pygments_lexer": "ipython3",
   "version": "3.8.10"
  },
  "orig_nbformat": 4
 },
 "nbformat": 4,
 "nbformat_minor": 2
}
