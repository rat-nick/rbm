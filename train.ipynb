{
 "cells": [
  {
   "cell_type": "markdown",
   "metadata": {},
   "source": [
    "Only run if in Colab!"
   ]
  },
  {
   "cell_type": "code",
   "execution_count": 2,
   "metadata": {},
   "outputs": [
    {
     "name": "stdout",
     "output_type": "stream",
     "text": [
      "Cloning into 'rbm'...\n",
      "remote: Enumerating objects: 21, done.\u001b[K\n",
      "remote: Counting objects: 100% (21/21), done.\u001b[K\n",
      "remote: Compressing objects: 100% (15/15), done.\u001b[K\n",
      "remote: Total 21 (delta 7), reused 18 (delta 4), pack-reused 0\u001b[K\n",
      "Unpacking objects: 100% (21/21), 8.19 KiB | 2.05 MiB/s, done.\n"
     ]
    }
   ],
   "source": [
    "!git clone https://github.com/ratinac-nikola/rbm.git\n",
    "!cd rbm\n",
    "%pip install requirements.txt"
   ]
  },
  {
   "cell_type": "markdown",
   "metadata": {},
   "source": [
    "### Initialization"
   ]
  },
  {
   "cell_type": "code",
   "execution_count": 3,
   "metadata": {},
   "outputs": [],
   "source": [
    "from sklearn.model_selection import train_test_split\n",
    "import torch\n",
    "import config\n",
    "\n",
    "if torch.cuda.is_available():\n",
    "    print(\"Using GPU\")\n",
    "    torch.device('cuda')\n",
    "else:\n",
    "    print(\"Using CPU\")"
   ]
  },
  {
   "cell_type": "code",
   "execution_count": null,
   "metadata": {},
   "outputs": [],
   "source": [
    "from dataset import Dataset\n",
    "dataset = Dataset()\n",
    "trainset, testset = train_test_split(dataset.getDatasetAsTensor(), train_size=0.1)\n",
    "trainset.shape"
   ]
  },
  {
   "cell_type": "code",
   "execution_count": 5,
   "metadata": {},
   "outputs": [],
   "source": [
    "from rbm import RBM\n",
    "rbm = RBM(trainset.shape[1], hidden_units=10,)"
   ]
  },
  {
   "cell_type": "code",
   "execution_count": 6,
   "metadata": {},
   "outputs": [
    {
     "name": "stdout",
     "output_type": "stream",
     "text": [
      "Case 10 done\n",
      "Case 20 done\n",
      "Case 30 done\n",
      "Case 40 done\n",
      "Case 50 done\n",
      "Case 60 done\n",
      "Case 70 done\n",
      "Case 80 done\n",
      "Case 90 done\n",
      "Epoch 1 done. Case 10 done\n",
      "Case 20 done\n",
      "Case 30 done\n",
      "Case 40 done\n",
      "Case 50 done\n",
      "Case 60 done\n",
      "Case 70 done\n",
      "Case 80 done\n",
      "Case 90 done\n",
      "Epoch 2 done. Case 10 done\n",
      "Case 20 done\n",
      "Case 30 done\n",
      "Case 40 done\n"
     ]
    },
    {
     "ename": "KeyboardInterrupt",
     "evalue": "",
     "output_type": "error",
     "traceback": [
      "\u001b[0;31m---------------------------------------------------------------------------\u001b[0m",
      "\u001b[0;31mKeyboardInterrupt\u001b[0m                         Traceback (most recent call last)",
      "\u001b[1;32m/home/nikola/projects/master-rad/rbm/train.ipynb Cell 4'\u001b[0m in \u001b[0;36m<cell line: 1>\u001b[0;34m()\u001b[0m\n\u001b[1;32m      <a href='vscode-notebook-cell:/home/nikola/projects/master-rad/rbm/train.ipynb#ch0000003?line=5'>6</a>\u001b[0m badSample \u001b[39m=\u001b[39m case\n\u001b[1;32m      <a href='vscode-notebook-cell:/home/nikola/projects/master-rad/rbm/train.ipynb#ch0000003?line=7'>8</a>\u001b[0m \u001b[39mfor\u001b[39;00m k \u001b[39min\u001b[39;00m \u001b[39mrange\u001b[39m(\u001b[39m10\u001b[39m):\n\u001b[0;32m----> <a href='vscode-notebook-cell:/home/nikola/projects/master-rad/rbm/train.ipynb#ch0000003?line=8'>9</a>\u001b[0m     _, hk \u001b[39m=\u001b[39m rbm\u001b[39m.\u001b[39;49msample_h(badSample)  \u001b[39m# forward pass\u001b[39;00m\n\u001b[1;32m     <a href='vscode-notebook-cell:/home/nikola/projects/master-rad/rbm/train.ipynb#ch0000003?line=9'>10</a>\u001b[0m     _, badSample \u001b[39m=\u001b[39m rbm\u001b[39m.\u001b[39msample_v(hk)  \u001b[39m# backward pass\u001b[39;00m\n\u001b[1;32m     <a href='vscode-notebook-cell:/home/nikola/projects/master-rad/rbm/train.ipynb#ch0000003?line=11'>12</a>\u001b[0m rbm\u001b[39m.\u001b[39mtrain(goodSample, badSample)\n",
      "File \u001b[0;32m~/projects/master-rad/rbm/rbm.py:29\u001b[0m, in \u001b[0;36mRBM.sample_h\u001b[0;34m(self, v)\u001b[0m\n\u001b[1;32m     <a href='file:///home/nikola/projects/master-rad/rbm/rbm.py?line=21'>22</a>\u001b[0m \u001b[39m\"\"\"\u001b[39;00m\n\u001b[1;32m     <a href='file:///home/nikola/projects/master-rad/rbm/rbm.py?line=22'>23</a>\u001b[0m \u001b[39mSample hidden units given that v is the visible layer\u001b[39;00m\n\u001b[1;32m     <a href='file:///home/nikola/projects/master-rad/rbm/rbm.py?line=23'>24</a>\u001b[0m \u001b[39m:param v: visible layer\u001b[39;00m\n\u001b[1;32m     <a href='file:///home/nikola/projects/master-rad/rbm/rbm.py?line=24'>25</a>\u001b[0m \u001b[39m\"\"\"\u001b[39;00m\n\u001b[1;32m     <a href='file:///home/nikola/projects/master-rad/rbm/rbm.py?line=25'>26</a>\u001b[0m \u001b[39m# print(self.w.shape)\u001b[39;00m\n\u001b[1;32m     <a href='file:///home/nikola/projects/master-rad/rbm/rbm.py?line=26'>27</a>\u001b[0m \u001b[39m# print(v.shape)\u001b[39;00m\n\u001b[0;32m---> <a href='file:///home/nikola/projects/master-rad/rbm/rbm.py?line=28'>29</a>\u001b[0m a \u001b[39m=\u001b[39m torch\u001b[39m.\u001b[39msum(torch\u001b[39m.\u001b[39;49mmatmul(\u001b[39mself\u001b[39;49m\u001b[39m.\u001b[39;49mw, v\u001b[39m.\u001b[39;49mt()), dim\u001b[39m=\u001b[39m[\u001b[39m1\u001b[39m, \u001b[39m2\u001b[39m])\n\u001b[1;32m     <a href='file:///home/nikola/projects/master-rad/rbm/rbm.py?line=30'>31</a>\u001b[0m activation \u001b[39m=\u001b[39m \u001b[39mself\u001b[39m\u001b[39m.\u001b[39mh_bias \u001b[39m+\u001b[39m a\n\u001b[1;32m     <a href='file:///home/nikola/projects/master-rad/rbm/rbm.py?line=32'>33</a>\u001b[0m p_h_given_v \u001b[39m=\u001b[39m torch\u001b[39m.\u001b[39msigmoid(activation)\n",
      "\u001b[0;31mKeyboardInterrupt\u001b[0m: "
     ]
    }
   ],
   "source": [
    "for epoch in range(1, config.epochs + 1):\n",
    "    i = 1\n",
    "    for case in trainset:\n",
    "\n",
    "        goodSample = case\n",
    "        badSample = case\n",
    "\n",
    "        for k in range(10):\n",
    "            _, hk = rbm.sample_h(badSample)  # forward pass\n",
    "            _, badSample = rbm.sample_v(hk)  # backward pass\n",
    "\n",
    "        rbm.train(goodSample, badSample)\n",
    "        i += 1\n",
    "        if i % 10 == 0:\n",
    "            print(f\"Case {i} done\")\n",
    "    print(f\"Epoch {epoch} done.\", end=\" \")\n"
   ]
  }
 ],
 "metadata": {
  "interpreter": {
   "hash": "31ef4494518237c4d127691515565a6a726fc1a4eafd76e4f455b7163c77bc81"
  },
  "kernelspec": {
   "display_name": "Python 3.8.10 ('env': venv)",
   "language": "python",
   "name": "python3"
  },
  "language_info": {
   "codemirror_mode": {
    "name": "ipython",
    "version": 3
   },
   "file_extension": ".py",
   "mimetype": "text/x-python",
   "name": "python",
   "nbconvert_exporter": "python",
   "pygments_lexer": "ipython3",
   "version": "3.8.10"
  },
  "orig_nbformat": 4
 },
 "nbformat": 4,
 "nbformat_minor": 2
}
