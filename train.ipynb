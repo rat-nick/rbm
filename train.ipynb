{
 "cells": [
  {
   "cell_type": "markdown",
   "metadata": {},
   "source": [
    "Only run if in Colab!"
   ]
  },
  {
   "cell_type": "code",
   "execution_count": null,
   "metadata": {},
   "outputs": [],
   "source": [
    "!git clone https://github.com/ratinac-nikola/rbm.git\n",
    "%cd rbm\n",
    "%pip install -r requirements.txt"
   ]
  },
  {
   "cell_type": "code",
   "execution_count": 1,
   "metadata": {},
   "outputs": [
    {
     "data": {
      "text/plain": [
       "'/home/nikola/projects/master-rad/rbm'"
      ]
     },
     "execution_count": 1,
     "metadata": {},
     "output_type": "execute_result"
    }
   ],
   "source": [
    "%pwd"
   ]
  },
  {
   "cell_type": "markdown",
   "metadata": {},
   "source": [
    "### Initialization"
   ]
  },
  {
   "cell_type": "code",
   "execution_count": 1,
   "metadata": {},
   "outputs": [
    {
     "name": "stdout",
     "output_type": "stream",
     "text": [
      "Using CPU\n"
     ]
    }
   ],
   "source": [
    "from sklearn.model_selection import train_test_split\n",
    "import torch\n",
    "import config\n",
    "\n",
    "if torch.cuda.is_available():\n",
    "    print(\"Using GPU\")\n",
    "    device = torch.device('cuda')\n",
    "else:\n",
    "    print(\"Using CPU\")\n",
    "    device = \"cpu\""
   ]
  },
  {
   "cell_type": "code",
   "execution_count": 2,
   "metadata": {},
   "outputs": [
    {
     "data": {
      "text/plain": [
       "(torch.Size([216, 3706, 5]), torch.Size([54, 3706, 5]))"
      ]
     },
     "execution_count": 2,
     "metadata": {},
     "output_type": "execute_result"
    }
   ],
   "source": [
    "from dataset import Dataset\n",
    "dataset = Dataset(device=device)\n",
    "tensorData = dataset.getDatasetAsTensor()\n",
    "tensorData = tensorData[tensorData.sum(dim=[1,2]) != 0]\n",
    "trainset, testset = train_test_split(tensorData, train_size=0.8)\n",
    "trainset.shape, testset.shape"
   ]
  },
  {
   "cell_type": "code",
   "execution_count": 4,
   "metadata": {},
   "outputs": [
    {
     "name": "stdout",
     "output_type": "stream",
     "text": [
      "RBM created   qweq.\n"
     ]
    }
   ],
   "source": [
    "from rbm import RBM\n",
    "rbm = RBM(trainset.shape[1], n_hidden=10, device=device)"
   ]
  },
  {
   "cell_type": "code",
   "execution_count": 5,
   "metadata": {},
   "outputs": [
    {
     "name": "stdout",
     "output_type": "stream",
     "text": [
      "Epoch 1 done. tensor(1.7961)\n",
      "Unexpected exception formatting exception. Falling back to standard exception\n"
     ]
    },
    {
     "name": "stderr",
     "output_type": "stream",
     "text": [
      "Traceback (most recent call last):\n",
      "  File \"/home/nikola/projects/master-rad/rbm/env/lib/python3.8/site-packages/IPython/core/interactiveshell.py\", line 3369, in run_code\n",
      "    exec(code_obj, self.user_global_ns, self.user_ns)\n",
      "  File \"/tmp/ipykernel_636707/627875862.py\", line 9, in <cell line: 1>\n",
      "    _, hk = rbm.sample_h(badSample)  # forward pass\n",
      "  File \"/home/nikola/projects/master-rad/rbm/rbm.py\", line 35, in sample_h\n",
      "KeyboardInterrupt\n",
      "\n",
      "During handling of the above exception, another exception occurred:\n",
      "\n",
      "Traceback (most recent call last):\n",
      "  File \"/home/nikola/projects/master-rad/rbm/env/lib/python3.8/site-packages/IPython/core/interactiveshell.py\", line 1982, in showtraceback\n",
      "    stb = self.InteractiveTB.structured_traceback(\n",
      "  File \"/home/nikola/projects/master-rad/rbm/env/lib/python3.8/site-packages/IPython/core/ultratb.py\", line 1118, in structured_traceback\n",
      "    return FormattedTB.structured_traceback(\n",
      "  File \"/home/nikola/projects/master-rad/rbm/env/lib/python3.8/site-packages/IPython/core/ultratb.py\", line 1012, in structured_traceback\n",
      "    return VerboseTB.structured_traceback(\n",
      "  File \"/home/nikola/projects/master-rad/rbm/env/lib/python3.8/site-packages/IPython/core/ultratb.py\", line 865, in structured_traceback\n",
      "    formatted_exception = self.format_exception_as_a_whole(etype, evalue, etb, number_of_lines_of_context,\n",
      "  File \"/home/nikola/projects/master-rad/rbm/env/lib/python3.8/site-packages/IPython/core/ultratb.py\", line 818, in format_exception_as_a_whole\n",
      "    frames.append(self.format_record(r))\n",
      "  File \"/home/nikola/projects/master-rad/rbm/env/lib/python3.8/site-packages/IPython/core/ultratb.py\", line 736, in format_record\n",
      "    result += ''.join(_format_traceback_lines(frame_info.lines, Colors, self.has_colors, lvals))\n",
      "  File \"/home/nikola/projects/master-rad/rbm/env/lib/python3.8/site-packages/stack_data/utils.py\", line 145, in cached_property_wrapper\n",
      "    value = obj.__dict__[self.func.__name__] = self.func(obj)\n",
      "  File \"/home/nikola/projects/master-rad/rbm/env/lib/python3.8/site-packages/stack_data/core.py\", line 698, in lines\n",
      "    pieces = self.included_pieces\n",
      "  File \"/home/nikola/projects/master-rad/rbm/env/lib/python3.8/site-packages/stack_data/utils.py\", line 145, in cached_property_wrapper\n",
      "    value = obj.__dict__[self.func.__name__] = self.func(obj)\n",
      "  File \"/home/nikola/projects/master-rad/rbm/env/lib/python3.8/site-packages/stack_data/core.py\", line 649, in included_pieces\n",
      "    pos = scope_pieces.index(self.executing_piece)\n",
      "  File \"/home/nikola/projects/master-rad/rbm/env/lib/python3.8/site-packages/stack_data/utils.py\", line 145, in cached_property_wrapper\n",
      "    value = obj.__dict__[self.func.__name__] = self.func(obj)\n",
      "  File \"/home/nikola/projects/master-rad/rbm/env/lib/python3.8/site-packages/stack_data/core.py\", line 628, in executing_piece\n",
      "    return only(\n",
      "  File \"/home/nikola/projects/master-rad/rbm/env/lib/python3.8/site-packages/executing/executing.py\", line 164, in only\n",
      "    raise NotOneValueFound('Expected one value, found 0')\n",
      "executing.executing.NotOneValueFound: Expected one value, found 0\n"
     ]
    }
   ],
   "source": [
    "for epoch in range(1, config.epochs + 1):\n",
    "    i = 1\n",
    "    for case in trainset:\n",
    "\n",
    "        goodSample = case\n",
    "        badSample = case\n",
    "\n",
    "        for k in range(10):\n",
    "            _, hk = rbm.sample_h(badSample)  # forward pass\n",
    "            _, badSample = rbm.sample_v(hk)  # backward pass\n",
    "\n",
    "        rbm.train(goodSample, badSample)\n",
    "        i += 1\n",
    "        #if i % 10 == 0:\n",
    "            #print(f\"Case {i} done\")\n",
    "    print(f\"Epoch {epoch} done.\", end=\" \")\n",
    "    rmse = 0\n",
    "    for case in testset:\n",
    "        reconstruction = rbm.reconstruct(case)\n",
    "        reconstruction = reconstruction[case.sum(dim=1) > 0]\n",
    "        case = case[case.sum(dim=1) > 0]\n",
    "        case = torch.argmax(case, dim=1) + 1\n",
    "        reconstruction = torch.argmax(reconstruction, dim=1) + 1\n",
    "        \n",
    "        #print(f\"Case:{case}\")\n",
    "        #print(f\"Reco:{reconstruction}\")\n",
    "        #print(f\"C-R :{case-reconstruction}\")\n",
    "        rmse += torch.sqrt(torch.sum((case - reconstruction)**2)/len(case))\n",
    "    print(rmse/len(testset))\n"
   ]
  }
 ],
 "metadata": {
  "interpreter": {
   "hash": "31ef4494518237c4d127691515565a6a726fc1a4eafd76e4f455b7163c77bc81"
  },
  "kernelspec": {
   "display_name": "Python 3.8.10 ('env': venv)",
   "language": "python",
   "name": "python3"
  },
  "language_info": {
   "codemirror_mode": {
    "name": "ipython",
    "version": 3
   },
   "file_extension": ".py",
   "mimetype": "text/x-python",
   "name": "python",
   "nbconvert_exporter": "python",
   "pygments_lexer": "ipython3",
   "version": "3.8.10"
  },
  "orig_nbformat": 4
 },
 "nbformat": 4,
 "nbformat_minor": 2
}
